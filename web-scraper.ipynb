{
 "cells": [
  {
   "cell_type": "code",
   "execution_count": 57,
   "metadata": {},
   "outputs": [],
   "source": [
    "from splinter import Browser\n",
    "from bs4 import BeautifulSoup\n",
    "import pandas as pd\n",
    "from webdriver_manager.chrome import ChromeDriverManager\n",
    "import re"
   ]
  },
  {
   "cell_type": "code",
   "execution_count": 58,
   "metadata": {},
   "outputs": [],
   "source": [
    "# Setup splinter\n",
    "executable_path = {'executable_path': ChromeDriverManager().install()}\n",
    "browser = Browser('chrome', **executable_path, headless=False)"
   ]
  },
  {
   "cell_type": "code",
   "execution_count": 15,
   "metadata": {},
   "outputs": [],
   "source": [
    "# Scrape All Books Basic info\n",
    "url = 'https://books.toscrape.com/'\n",
    "browser.visit(url)\n",
    "titles = []\n",
    "prices = []\n",
    "ratings = []\n",
    "stocks = []\n",
    "for x in range(1, 4):\n",
    "    html = browser.html\n",
    "    soup = BeautifulSoup(html, 'html.parser')\n",
    "    books = soup.find_all('article', class_='product_pod')\n",
    "    for book in books:\n",
    "        title = book.h3.a[\"title\"]\n",
    "        price = book.find(\"p\", class_=\"price_color\").get_text().strip()\n",
    "        rating = book.p[\"class\"][1]\n",
    "        stock = book.find(\"p\", class_=\"instock availability\").get_text().strip()\n",
    "        titles.append(title)\n",
    "        prices.append(price)\n",
    "        ratings.append(rating)\n",
    "        stocks.append(stock)\n",
    "    if browser.links.find_by_partial_text('next'):\n",
    "        browser.links.find_by_partial_text('next').click()\n",
    "    else:\n",
    "        print(\"-Done\")"
   ]
  },
  {
   "cell_type": "code",
   "execution_count": 17,
   "metadata": {},
   "outputs": [],
   "source": [
    "# Crate Basic Scrape Data Frame\n",
    "scrape_df = pd.DataFrame(\n",
    "                        {'Titles':  titles,\n",
    "                        'Prices':   prices,\n",
    "                        'Ratings':  ratings,\n",
    "                        'Stocks':   stocks})\n",
    "scrape_df"
   ]
  },
  {
   "cell_type": "code",
   "execution_count": 205,
   "metadata": {},
   "outputs": [
    {
     "name": "stdout",
     "output_type": "stream",
     "text": [
      "catalogue/category/books_1/index.html\n"
     ]
    }
   ],
   "source": [
    "# Collect Category links\n",
    "url = 'https://books.toscrape.com/'\n",
    "browser.visit(url)\n",
    "\n",
    "# for x in range(1, 6):\n",
    "html = browser.html\n",
    "soup = BeautifulSoup(html, 'html.parser')\n",
    "\n",
    "Section = soup.find('ul', class_='nav nav-list')\n",
    "linksSection = Section.find_all('a')\n",
    "linksSectionStr = []\n",
    "for x in linksSection:\n",
    "    linksSectionStr.append(str(x))\n",
    "categoriesLinks = []\n",
    "for x in range(len(linksSectionStr)):\n",
    "    linksSectionStr[x] = re.sub(' +', '', linksSectionStr[x])\n",
    "    linksSectionStr[x] = re.sub('\\n', '', linksSectionStr[x])\n",
    "    linksSectionStr[x] = re.findall(r'\"([^\"]*)\"', linksSectionStr[x])\n",
    "    categoriesLinks.append(linksSectionStr[x][0])\n",
    "print(categoriesLinks)\n"
   ]
  },
  {
   "cell_type": "code",
   "execution_count": 56,
   "metadata": {},
   "outputs": [],
   "source": [
    "browser.quit()"
   ]
  }
 ],
 "metadata": {
  "kernelspec": {
   "display_name": "base",
   "language": "python",
   "name": "python3"
  },
  "language_info": {
   "codemirror_mode": {
    "name": "ipython",
    "version": 3
   },
   "file_extension": ".py",
   "mimetype": "text/x-python",
   "name": "python",
   "nbconvert_exporter": "python",
   "pygments_lexer": "ipython3",
   "version": "3.9.13"
  },
  "orig_nbformat": 4
 },
 "nbformat": 4,
 "nbformat_minor": 2
}
